{
 "cells": [
  {
   "cell_type": "code",
   "execution_count": 2,
   "metadata": {},
   "outputs": [
    {
     "name": "stdout",
     "output_type": "stream",
     "text": [
      "454 is a palindrome number\n"
     ]
    }
   ],
   "source": [
    "n = int(input(\"Enter a number: \"))\n",
    "\n",
    "rev = 0\n",
    "temp = n\n",
    "\n",
    "# using the while loop\n",
    "while(n > 0):\n",
    "    rev = rev * 10 + n % 10\n",
    "    n = n // 10\n",
    "\n",
    "if temp == rev:\n",
    "    print(temp, \"is a palindrome number\")\n",
    "else:\n",
    "    print(temp, \"is not a palindrome number\")\n"
   ]
  }
 ],
 "metadata": {
  "kernelspec": {
   "display_name": "Python 3",
   "language": "python",
   "name": "python3"
  },
  "language_info": {
   "codemirror_mode": {
    "name": "ipython",
    "version": 3
   },
   "file_extension": ".py",
   "mimetype": "text/x-python",
   "name": "python",
   "nbconvert_exporter": "python",
   "pygments_lexer": "ipython3",
   "version": "3.12.3"
  }
 },
 "nbformat": 4,
 "nbformat_minor": 2
}
